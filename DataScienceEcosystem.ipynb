{
 "cells": [
  {
   "cell_type": "markdown",
   "id": "d48677c7-671d-4063-a3e6-344d3f50acde",
   "metadata": {},
   "source": [
    "# DATA SCIENCE TOOLS AND ECOSYSTEM"
   ]
  },
  {
   "cell_type": "markdown",
   "id": "bcef7e8b-1823-420d-bfd4-e393016cdc05",
   "metadata": {},
   "source": [
    "In this notebook, Data Science Tools and Ecosystem are summarized."
   ]
  },
  {
   "cell_type": "markdown",
   "id": "2c4e6d1e-b7a5-439a-bed8-cae34deef6fe",
   "metadata": {},
   "source": [
    "Some of the popular languages that Data Scientists use are:\n",
    "1. R\n",
    "2. PYTHON\n",
    "3. SQL\n",
    "4. SCALA"
   ]
  },
  {
   "cell_type": "markdown",
   "id": "4742315d-9d0c-428a-a92b-89711579ea7b",
   "metadata": {},
   "source": [
    "Some of the commonly used libraries used by Data Scientists include:\n",
    "1. GGPLOT\n",
    "2. GGALLY\n",
    "3. VEGAS\n",
    "4. PANDAS"
   ]
  },
  {
   "cell_type": "markdown",
   "id": "a5ac8367-6532-4425-bee3-608f1b643b06",
   "metadata": {},
   "source": [
    "| Data Science Tools      |\r\n",
    "|-------------------------|\r\n",
    "| Jupyter Notebooks       |\r\n",
    "| RStudio                 |\r\n",
    "| VS Code with Python     |\r\n"
   ]
  },
  {
   "cell_type": "markdown",
   "id": "b267b5c0-3422-426f-a044-f981840f7b0a",
   "metadata": {},
   "source": [
    "Below are a few examples of evaluating arithmetic expressions in Python"
   ]
  },
  {
   "cell_type": "code",
   "execution_count": 2,
   "id": "60db28bc-3673-4816-a841-c6689e9ab972",
   "metadata": {},
   "outputs": [
    {
     "data": {
      "text/plain": [
       "17"
      ]
     },
     "execution_count": 2,
     "metadata": {},
     "output_type": "execute_result"
    }
   ],
   "source": [
    "# This is a simple arithmetic expression to multiply then add integers.\n",
    "result = (3 * 4) + 5\n",
    "result\n"
   ]
  },
  {
   "cell_type": "code",
   "execution_count": 3,
   "id": "66f45b72-f689-4cb9-95e1-5e45d5d29eeb",
   "metadata": {},
   "outputs": [
    {
     "data": {
      "text/plain": [
       "3.3333333333333335"
      ]
     },
     "execution_count": 3,
     "metadata": {},
     "output_type": "execute_result"
    }
   ],
   "source": [
    "# This will convert 200 minutes to hours by dividing by 60.\n",
    "minutes = 200\n",
    "hours = minutes / 60\n",
    "hours\n"
   ]
  },
  {
   "cell_type": "markdown",
   "id": "0beb26fd-ffda-4a0a-9317-0b356bc97c26",
   "metadata": {},
   "source": [
    "**Objectives**:\r\n",
    "1.\r\n",
    "Create a Jupyter Notebook2.\r\n",
    "\r\n",
    "Insert code and markdown cel3.ls\r\n",
    "\r\n",
    "Share your notebook through GitHub\n"
   ]
  },
  {
   "cell_type": "markdown",
   "id": "4589da62-6394-4a54-a9ea-38a7e7579de0",
   "metadata": {},
   "source": [
    "## Author\n",
    "  YASH"
   ]
  }
 ],
 "metadata": {
  "kernelspec": {
   "display_name": "Python 3 (ipykernel)",
   "language": "python",
   "name": "python3"
  },
  "language_info": {
   "codemirror_mode": {
    "name": "ipython",
    "version": 3
   },
   "file_extension": ".py",
   "mimetype": "text/x-python",
   "name": "python",
   "nbconvert_exporter": "python",
   "pygments_lexer": "ipython3",
   "version": "3.12.1"
  }
 },
 "nbformat": 4,
 "nbformat_minor": 5
}
